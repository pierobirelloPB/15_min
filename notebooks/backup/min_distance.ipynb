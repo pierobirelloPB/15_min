{
 "cells": [
  {
   "cell_type": "code",
   "execution_count": 7,
   "metadata": {},
   "outputs": [],
   "source": [
    "import numpy as np\n",
    "from shapely.geometry import Point\n",
    "import pandas as pd\n",
    "import geopandas as gpd"
   ]
  },
  {
   "cell_type": "code",
   "execution_count": 20,
   "metadata": {},
   "outputs": [
    {
     "data": {
      "text/plain": [
       "'correct'"
      ]
     },
     "execution_count": 20,
     "metadata": {},
     "output_type": "execute_result"
    }
   ],
   "source": [
    "def find_closest_centroid_idx(centroids_batch,source):\n",
    "    \"\"\"Find index of the closest centroid to given source.\n",
    "\n",
    "    Args:\n",
    "        centroids_batch (_type_): _description_\n",
    "        source (_type_): _description_\n",
    "\n",
    "    Returns:\n",
    "        _type_: _description_\n",
    "    \"\"\"\n",
    "    centroids_coords = centroids_batch.apply(lambda c: [c.x,c.y])\n",
    "    centroids_coords = centroids_coords.tolist()\n",
    "    distances = np.linalg.norm(np.array(centroids_coords)-np.array(source_coords),axis=1)\n",
    "    argmin = np.argmin(distances)\n",
    "    idx = centroids_batch.index[argmin]\n",
    "    return idx\n",
    "\n",
    "source_ = (16.360566, 48.221588)\n",
    "centroids_batch = pd.Series([Point(16.36025,48.22169),Point(16.34513,48.24799),Point(16.35228,48.22118),Point(16.360566,48.221588)],index=[10,20,70,'correct'])\n",
    "find_closest_centroid_idx(centroids_batch, list(source_))"
   ]
  },
  {
   "cell_type": "code",
   "execution_count": 21,
   "metadata": {},
   "outputs": [
    {
     "data": {
      "text/plain": [
       "Index([10, 20, 70, 'correct'], dtype='object')"
      ]
     },
     "execution_count": 21,
     "metadata": {},
     "output_type": "execute_result"
    }
   ],
   "source": [
    "centroids_batch.index"
   ]
  },
  {
   "cell_type": "code",
   "execution_count": null,
   "metadata": {},
   "outputs": [],
   "source": []
  }
 ],
 "metadata": {
  "kernelspec": {
   "display_name": "geo_env",
   "language": "python",
   "name": "python3"
  },
  "language_info": {
   "codemirror_mode": {
    "name": "ipython",
    "version": 3
   },
   "file_extension": ".py",
   "mimetype": "text/x-python",
   "name": "python",
   "nbconvert_exporter": "python",
   "pygments_lexer": "ipython3",
   "version": "3.8.18"
  }
 },
 "nbformat": 4,
 "nbformat_minor": 2
}
