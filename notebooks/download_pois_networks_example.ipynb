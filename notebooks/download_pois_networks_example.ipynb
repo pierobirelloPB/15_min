{
 "cells": [
  {
   "cell_type": "markdown",
   "metadata": {},
   "source": [
    "# POIs in Vienna\n",
    "\n",
    "In this notebook we show the results of the data collection of:\n",
    "\n",
    "* the location of POIs of different categories in Vienna\n",
    "\n",
    "The notebook calls wrap functions from the script \"src/data/download_pois_networks.py\"."
   ]
  },
  {
   "cell_type": "markdown",
   "metadata": {},
   "source": [
    "## Imports"
   ]
  },
  {
   "cell_type": "code",
   "execution_count": 9,
   "metadata": {},
   "outputs": [],
   "source": [
    "import pandas as pd\n",
    "import numpy as np\n",
    "import os\n",
    "import sys\n",
    "import pickle\n",
    "import matplotlib.pyplot as plt\n",
    "\n",
    "sys.path.append('../src/data')\n",
    "from download_pois_networks import download_POIs\n",
    "from download_pois_networks import download_street_network, networks_to_gdf, analyze_street_network"
   ]
  },
  {
   "cell_type": "code",
   "execution_count": 10,
   "metadata": {},
   "outputs": [],
   "source": [
    "EQUAL_AREA_PROJ = '+proj=cea'\n",
    "LON_LAT_PROJ = 'EPSG:4326'\n",
    "MERCATOR_PROJ = 'epsg:3395'"
   ]
  },
  {
   "cell_type": "markdown",
   "metadata": {},
   "source": [
    "## Read data"
   ]
  },
  {
   "cell_type": "code",
   "execution_count": 3,
   "metadata": {},
   "outputs": [
    {
     "data": {
      "text/plain": [
       "['ViennaAustria_r8_travel_times_old.pkl',\n",
       " 'ViennaAustria_r8_nearest_loc_old.pkl',\n",
       " 'ViennaAustria.pkl',\n",
       " 'ViennaAustria_r8_travel_times.pkl',\n",
       " 'ViennaAustria_networks.pkl',\n",
       " 'ViennaAustria_r8_nearest_loc.pkl',\n",
       " 'ViennaAustria_r8_hex_grid.pkl']"
      ]
     },
     "execution_count": 3,
     "metadata": {},
     "output_type": "execute_result"
    }
   ],
   "source": [
    "raw_data_path = '../data/raw/'\n",
    "os.listdir(raw_data_path)"
   ]
  },
  {
   "cell_type": "code",
   "execution_count": 6,
   "metadata": {},
   "outputs": [
    {
     "name": "stdout",
     "output_type": "stream",
     "text": [
      "(2795, 282)\n"
     ]
    },
    {
     "data": {
      "text/html": [
       "<div>\n",
       "<style scoped>\n",
       "    .dataframe tbody tr th:only-of-type {\n",
       "        vertical-align: middle;\n",
       "    }\n",
       "\n",
       "    .dataframe tbody tr th {\n",
       "        vertical-align: top;\n",
       "    }\n",
       "\n",
       "    .dataframe thead th {\n",
       "        text-align: right;\n",
       "    }\n",
       "</style>\n",
       "<table border=\"1\" class=\"dataframe\">\n",
       "  <thead>\n",
       "    <tr style=\"text-align: right;\">\n",
       "      <th></th>\n",
       "      <th></th>\n",
       "      <th>addr:city</th>\n",
       "      <th>addr:country</th>\n",
       "      <th>addr:housenumber</th>\n",
       "      <th>addr:postcode</th>\n",
       "      <th>addr:street</th>\n",
       "      <th>atm</th>\n",
       "      <th>brand</th>\n",
       "      <th>brand:wikidata</th>\n",
       "      <th>brand:wikipedia</th>\n",
       "      <th>name</th>\n",
       "      <th>...</th>\n",
       "      <th>etymology:wikidata</th>\n",
       "      <th>construction_year</th>\n",
       "      <th>healthcare</th>\n",
       "      <th>emergency</th>\n",
       "      <th>healthcare:speciality</th>\n",
       "      <th>military</th>\n",
       "      <th>health_specialty</th>\n",
       "      <th>smoking</th>\n",
       "      <th>smoking:outside</th>\n",
       "      <th>reg_name</th>\n",
       "    </tr>\n",
       "    <tr>\n",
       "      <th>element_type</th>\n",
       "      <th>osmid</th>\n",
       "      <th></th>\n",
       "      <th></th>\n",
       "      <th></th>\n",
       "      <th></th>\n",
       "      <th></th>\n",
       "      <th></th>\n",
       "      <th></th>\n",
       "      <th></th>\n",
       "      <th></th>\n",
       "      <th></th>\n",
       "      <th></th>\n",
       "      <th></th>\n",
       "      <th></th>\n",
       "      <th></th>\n",
       "      <th></th>\n",
       "      <th></th>\n",
       "      <th></th>\n",
       "      <th></th>\n",
       "      <th></th>\n",
       "      <th></th>\n",
       "      <th></th>\n",
       "    </tr>\n",
       "  </thead>\n",
       "  <tbody>\n",
       "    <tr>\n",
       "      <th>node</th>\n",
       "      <th>15079903</th>\n",
       "      <td>Wien</td>\n",
       "      <td>AT</td>\n",
       "      <td>180</td>\n",
       "      <td>1140</td>\n",
       "      <td>Hütteldorfer Straße</td>\n",
       "      <td>yes</td>\n",
       "      <td>Eurospar</td>\n",
       "      <td>Q12309283</td>\n",
       "      <td>da:Eurospar</td>\n",
       "      <td>Eurospar</td>\n",
       "      <td>...</td>\n",
       "      <td>NaN</td>\n",
       "      <td>NaN</td>\n",
       "      <td>NaN</td>\n",
       "      <td>NaN</td>\n",
       "      <td>NaN</td>\n",
       "      <td>NaN</td>\n",
       "      <td>NaN</td>\n",
       "      <td>NaN</td>\n",
       "      <td>NaN</td>\n",
       "      <td>NaN</td>\n",
       "    </tr>\n",
       "  </tbody>\n",
       "</table>\n",
       "<p>1 rows × 282 columns</p>\n",
       "</div>"
      ],
      "text/plain": [
       "                      addr:city addr:country addr:housenumber addr:postcode  \\\n",
       "element_type osmid                                                            \n",
       "node         15079903      Wien           AT              180          1140   \n",
       "\n",
       "                               addr:street  atm     brand brand:wikidata  \\\n",
       "element_type osmid                                                         \n",
       "node         15079903  Hütteldorfer Straße  yes  Eurospar      Q12309283   \n",
       "\n",
       "                      brand:wikipedia      name  ... etymology:wikidata  \\\n",
       "element_type osmid                               ...                      \n",
       "node         15079903     da:Eurospar  Eurospar  ...                NaN   \n",
       "\n",
       "                      construction_year healthcare emergency  \\\n",
       "element_type osmid                                             \n",
       "node         15079903               NaN        NaN       NaN   \n",
       "\n",
       "                      healthcare:speciality military health_specialty smoking  \\\n",
       "element_type osmid                                                              \n",
       "node         15079903                   NaN      NaN              NaN     NaN   \n",
       "\n",
       "                      smoking:outside reg_name  \n",
       "element_type osmid                              \n",
       "node         15079903             NaN      NaN  \n",
       "\n",
       "[1 rows x 282 columns]"
      ]
     },
     "metadata": {},
     "output_type": "display_data"
    }
   ],
   "source": [
    "with open(f'{raw_data_path}ViennaAustria.pkl','rb') as f:\n",
    "    gdf_pois = pickle.load(f)\n",
    "\n",
    "print(gdf_pois.shape)\n",
    "display(gdf_pois.head(1))"
   ]
  },
  {
   "cell_type": "markdown",
   "metadata": {},
   "source": [
    "## Visualization"
   ]
  },
  {
   "cell_type": "code",
   "execution_count": 17,
   "metadata": {},
   "outputs": [
    {
     "name": "stdout",
     "output_type": "stream",
     "text": [
      "Total POIs: 2795\n",
      "Found 1046 shop-supermarket\n"
     ]
    }
   ],
   "source": [
    "tags = {'shop':['supermarket']}\n",
    "\n",
    "boundary, pois = download_POIs(place_name=\"Vienna, Austria\",tags=tags)"
   ]
  },
  {
   "cell_type": "code",
   "execution_count": 18,
   "metadata": {},
   "outputs": [
    {
     "name": "stdout",
     "output_type": "stream",
     "text": [
      "1\n"
     ]
    }
   ],
   "source": [
    "filtered_pois_by_tag = {}\n",
    "for tag_key, tag_values in tags.items():\n",
    "    for tag_value in tag_values:\n",
    "        tag_name = f\"{tag_key}_{tag_value}\"\n",
    "        # Filter POIs that match this tag\n",
    "        mask = pois[tag_key] == tag_value\n",
    "        if mask.any():\n",
    "            filtered_pois_by_tag[tag_name] = pois[mask]\n",
    "\n",
    "print(len(filtered_pois_by_tag))"
   ]
  },
  {
   "cell_type": "code",
   "execution_count": 19,
   "metadata": {},
   "outputs": [
    {
     "data": {
      "text/html": [
       "<div>\n",
       "<style scoped>\n",
       "    .dataframe tbody tr th:only-of-type {\n",
       "        vertical-align: middle;\n",
       "    }\n",
       "\n",
       "    .dataframe tbody tr th {\n",
       "        vertical-align: top;\n",
       "    }\n",
       "\n",
       "    .dataframe thead th {\n",
       "        text-align: right;\n",
       "    }\n",
       "</style>\n",
       "<table border=\"1\" class=\"dataframe\">\n",
       "  <thead>\n",
       "    <tr style=\"text-align: right;\">\n",
       "      <th></th>\n",
       "      <th></th>\n",
       "      <th>addr:city</th>\n",
       "      <th>addr:country</th>\n",
       "      <th>addr:housenumber</th>\n",
       "      <th>addr:postcode</th>\n",
       "      <th>addr:street</th>\n",
       "      <th>atm</th>\n",
       "      <th>brand</th>\n",
       "      <th>brand:wikidata</th>\n",
       "      <th>brand:wikipedia</th>\n",
       "      <th>name</th>\n",
       "      <th>...</th>\n",
       "      <th>etymology:wikidata</th>\n",
       "      <th>construction_year</th>\n",
       "      <th>healthcare</th>\n",
       "      <th>emergency</th>\n",
       "      <th>healthcare:speciality</th>\n",
       "      <th>military</th>\n",
       "      <th>health_specialty</th>\n",
       "      <th>smoking</th>\n",
       "      <th>smoking:outside</th>\n",
       "      <th>reg_name</th>\n",
       "    </tr>\n",
       "    <tr>\n",
       "      <th>element_type</th>\n",
       "      <th>osmid</th>\n",
       "      <th></th>\n",
       "      <th></th>\n",
       "      <th></th>\n",
       "      <th></th>\n",
       "      <th></th>\n",
       "      <th></th>\n",
       "      <th></th>\n",
       "      <th></th>\n",
       "      <th></th>\n",
       "      <th></th>\n",
       "      <th></th>\n",
       "      <th></th>\n",
       "      <th></th>\n",
       "      <th></th>\n",
       "      <th></th>\n",
       "      <th></th>\n",
       "      <th></th>\n",
       "      <th></th>\n",
       "      <th></th>\n",
       "      <th></th>\n",
       "      <th></th>\n",
       "    </tr>\n",
       "  </thead>\n",
       "  <tbody>\n",
       "    <tr>\n",
       "      <th>node</th>\n",
       "      <th>15079903</th>\n",
       "      <td>Wien</td>\n",
       "      <td>AT</td>\n",
       "      <td>180</td>\n",
       "      <td>1140</td>\n",
       "      <td>Hütteldorfer Straße</td>\n",
       "      <td>yes</td>\n",
       "      <td>Eurospar</td>\n",
       "      <td>Q12309283</td>\n",
       "      <td>da:Eurospar</td>\n",
       "      <td>Eurospar</td>\n",
       "      <td>...</td>\n",
       "      <td>NaN</td>\n",
       "      <td>NaN</td>\n",
       "      <td>NaN</td>\n",
       "      <td>NaN</td>\n",
       "      <td>NaN</td>\n",
       "      <td>NaN</td>\n",
       "      <td>NaN</td>\n",
       "      <td>NaN</td>\n",
       "      <td>NaN</td>\n",
       "      <td>NaN</td>\n",
       "    </tr>\n",
       "  </tbody>\n",
       "</table>\n",
       "<p>1 rows × 282 columns</p>\n",
       "</div>"
      ],
      "text/plain": [
       "                      addr:city addr:country addr:housenumber addr:postcode  \\\n",
       "element_type osmid                                                            \n",
       "node         15079903      Wien           AT              180          1140   \n",
       "\n",
       "                               addr:street  atm     brand brand:wikidata  \\\n",
       "element_type osmid                                                         \n",
       "node         15079903  Hütteldorfer Straße  yes  Eurospar      Q12309283   \n",
       "\n",
       "                      brand:wikipedia      name  ... etymology:wikidata  \\\n",
       "element_type osmid                               ...                      \n",
       "node         15079903     da:Eurospar  Eurospar  ...                NaN   \n",
       "\n",
       "                      construction_year healthcare emergency  \\\n",
       "element_type osmid                                             \n",
       "node         15079903               NaN        NaN       NaN   \n",
       "\n",
       "                      healthcare:speciality military health_specialty smoking  \\\n",
       "element_type osmid                                                              \n",
       "node         15079903                   NaN      NaN              NaN     NaN   \n",
       "\n",
       "                      smoking:outside reg_name  \n",
       "element_type osmid                              \n",
       "node         15079903             NaN      NaN  \n",
       "\n",
       "[1 rows x 282 columns]"
      ]
     },
     "execution_count": 19,
     "metadata": {},
     "output_type": "execute_result"
    }
   ],
   "source": [
    "filtered_pois_by_tag['shop_supermarket'].head(1)"
   ]
  },
  {
   "cell_type": "code",
   "execution_count": 26,
   "metadata": {},
   "outputs": [
    {
     "data": {
      "image/png": "[encoded data removed]",
      "text/plain": [
       "<Figure size 640x480 with 1 Axes>"
      ]
     },
     "metadata": {},
     "output_type": "display_data"
    }
   ],
   "source": [
    "fig,ax = plt.subplots()\n",
    "gdf_boundary_plot = boundary.to_crs(MERCATOR_PROJ)\n",
    "gdf_boundary_plot.plot(ax=ax,color='k')\n",
    "gdf_plot = filtered_pois_by_tag['shop_supermarket'].to_crs(MERCATOR_PROJ)\n",
    "gdf_plot.plot(ax=ax,markersize=1)\n",
    "ax.set_title('Supermarkets in Vienna, Austria')\n",
    "ax.set_axis_off()"
   ]
  },
  {
   "cell_type": "code",
   "execution_count": null,
   "metadata": {},
   "outputs": [],
   "source": []
  }
 ],
 "metadata": {
  "kernelspec": {
   "display_name": "Python 3 (ipykernel)",
   "language": "python",
   "name": "python3"
  },
  "language_info": {
   "codemirror_mode": {
    "name": "ipython",
    "version": 3
   },
   "file_extension": ".py",
   "mimetype": "text/x-python",
   "name": "python",
   "nbconvert_exporter": "python",
   "pygments_lexer": "ipython3",
   "version": "3.12.2"
  }
 },
 "nbformat": 4,
 "nbformat_minor": 4
}
