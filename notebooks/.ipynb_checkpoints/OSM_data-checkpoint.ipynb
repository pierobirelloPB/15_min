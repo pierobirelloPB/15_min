{
 "cells": [
  {
   "cell_type": "markdown",
   "metadata": {},
   "source": [
    "# Vienna OSMnx data"
   ]
  },
  {
   "cell_type": "markdown",
   "metadata": {},
   "source": [
    "## Imports"
   ]
  },
  {
   "cell_type": "code",
   "execution_count": 11,
   "metadata": {},
   "outputs": [],
   "source": [
    "import numpy as np\n",
    "import pandas as pd\n",
    "import geopandas as gpd\n",
    "import osmnx as ox\n",
    "import os\n",
    "import re\n",
    "import pickle\n",
    "import copy\n",
    "import networkx as nx\n",
    "from shapely.geometry import LineString\n",
    "\n",
    "import sys\n",
    "sys.path.append('../src/data')\n",
    "from download_pois_networks import download_POIs\n",
    "from download_pois_networks import download_street_network, networks_to_gdf, analyze_street_network"
   ]
  },
  {
   "cell_type": "markdown",
   "metadata": {},
   "source": [
    "## Retrieve data"
   ]
  },
  {
   "cell_type": "code",
   "execution_count": 13,
   "metadata": {},
   "outputs": [
    {
     "name": "stdout",
     "output_type": "stream",
     "text": [
      "Total POIs: 2156\n",
      "Found 1046 shop-supermarket\n",
      "Found 1110 leisure-park\n"
     ]
    }
   ],
   "source": [
    "# Download POIs\n",
    "tags={'shop':['supermarket'],'leisure':['park']}\n",
    "boundary, pois = download_POIs(place_name=\"Vienna, Austria\", tags=tags)"
   ]
  },
  {
   "cell_type": "code",
   "execution_count": 16,
   "metadata": {},
   "outputs": [
    {
     "name": "stdout",
     "output_type": "stream",
     "text": [
      "Drive network: 16056 nodes, 35742 edges\n",
      "Bike network: 50833 nodes, 125064 edges\n",
      "Walk network: 126905 nodes, 367144 edges\n",
      "Computed Network Statistics\n",
      "\n",
      "Network Statistics:\n",
      "\n",
      "Drive Network:\n",
      "  node_count: 16056\n",
      "  edge_count: 35742\n",
      "  total_edge_length_km: 4507.67\n",
      "  avg_edge_length_m: 126.12\n",
      "  avg_node_degree: 4.45\n",
      "  connected_components: 1\n",
      "  avg_street_density: 7.93\n",
      "\n",
      "Bike Network:\n",
      "  node_count: 50833\n",
      "  edge_count: 125064\n",
      "  total_edge_length_km: 9709.76\n",
      "  avg_edge_length_m: 77.64\n",
      "  avg_node_degree: 4.92\n",
      "  connected_components: 1\n",
      "  avg_street_density: 12.88\n",
      "\n",
      "Walk Network:\n",
      "  node_count: 126905\n",
      "  edge_count: 367144\n",
      "  total_edge_length_km: 16795.70\n",
      "  avg_edge_length_m: 45.75\n",
      "  avg_node_degree: 5.79\n",
      "  connected_components: 1\n",
      "  avg_street_density: 21.86\n"
     ]
    }
   ],
   "source": [
    "# Download networks\n",
    "boundary, networks = download_street_network(\"Vienna, Austria\", network_types=['drive', 'bike', 'walk'])\n",
    "    \n",
    "# Convert to GeoDataFrame for visualization\n",
    "streets_gdf = networks_to_gdf(networks)\n",
    "\n",
    "# Analyze networks\n",
    "network_stats = analyze_street_network(networks)\n",
    "print(\"\\nNetwork Statistics:\")\n",
    "for network_type, stats in network_stats.items():\n",
    "    print(f\"\\n{network_type.capitalize()} Network:\")\n",
    "    for stat, value in stats.items():\n",
    "        print(f\"  {stat}: {value:.2f}\" if isinstance(value, float) else f\"  {stat}: {value}\")"
   ]
  },
  {
   "cell_type": "markdown",
   "metadata": {},
   "source": [
    "## Hexagons"
   ]
  },
  {
   "cell_type": "code",
   "execution_count": 33,
   "metadata": {},
   "outputs": [],
   "source": [
    "#from h3 import h3 # appears to be incorrect\n",
    "import h3\n",
    "from shapely.geometry import Polygon\n",
    "import geopandas as gpd"
   ]
  },
  {
   "cell_type": "code",
   "execution_count": 41,
   "metadata": {},
   "outputs": [
    {
     "name": "stdout",
     "output_type": "stream",
     "text": [
      "4.2.2\n"
     ]
    }
   ],
   "source": [
    "print(h3.__version__)"
   ]
  },
  {
   "cell_type": "code",
   "execution_count": 43,
   "metadata": {},
   "outputs": [],
   "source": [
    "def create_hexagonal_grid(boundary, resolution=8):\n",
    "    \"\"\"Create hexagonal grid inside boundary.\n",
    "\n",
    "    Args:\n",
    "        boundary (GeoDataFrame): boundary polygon\n",
    "        resolution (int, optional): resolution of tessellation. Defaults to 8.\n",
    "\n",
    "    Returns:\n",
    "        GeoDataFrame: geodf of hexagons\n",
    "    \"\"\"\n",
    "    # Get boundary polygon coordinates\n",
    "    boundary_shape = boundary.geometry.iloc[0]\n",
    "    \n",
    "    # Get hexagons that intersect with the boundary\n",
    "    hex_ids = list(h3.polyfill(\n",
    "        boundary_shape.__geo_interface__,\n",
    "        resolution\n",
    "    ))\n",
    "    \n",
    "    # Convert hexagons to polygons\n",
    "    hex_polygons = []\n",
    "    for hex_id in hex_ids:\n",
    "        polygon_coords = h3.h3_to_geo_boundary(hex_id)\n",
    "        polygon = Polygon(polygon_coords)\n",
    "        hex_polygons.append({\n",
    "            'geometry': polygon,\n",
    "            'hex_id': hex_id\n",
    "        })\n",
    "    \n",
    "    # Convert to GeoDataFrame\n",
    "    geodf_hex = gpd.GeoDataFrame(hex_polygons)\n",
    "\n",
    "    return geodf_hex"
   ]
  },
  {
   "cell_type": "code",
   "execution_count": 45,
   "metadata": {},
   "outputs": [
    {
     "ename": "AttributeError",
     "evalue": "module 'h3' has no attribute 'polyfill'",
     "output_type": "error",
     "traceback": [
      "\u001b[0;31m---------------------------------------------------------------------------\u001b[0m",
      "\u001b[0;31mAttributeError\u001b[0m                            Traceback (most recent call last)",
      "Cell \u001b[0;32mIn[45], line 1\u001b[0m\n\u001b[0;32m----> 1\u001b[0m geodf_hex \u001b[38;5;241m=\u001b[39m create_hexagonal_grid(boundary)\n\u001b[1;32m      2\u001b[0m geodf_hex\u001b[38;5;241m.\u001b[39mplot()\n",
      "Cell \u001b[0;32mIn[43], line 15\u001b[0m, in \u001b[0;36mcreate_hexagonal_grid\u001b[0;34m(boundary, resolution)\u001b[0m\n\u001b[1;32m     12\u001b[0m boundary_shape \u001b[38;5;241m=\u001b[39m boundary\u001b[38;5;241m.\u001b[39mgeometry\u001b[38;5;241m.\u001b[39miloc[\u001b[38;5;241m0\u001b[39m]\n\u001b[1;32m     14\u001b[0m \u001b[38;5;66;03m# Get hexagons that intersect with the boundary\u001b[39;00m\n\u001b[0;32m---> 15\u001b[0m hex_ids \u001b[38;5;241m=\u001b[39m \u001b[38;5;28mlist\u001b[39m(h3\u001b[38;5;241m.\u001b[39mpolyfill(\n\u001b[1;32m     16\u001b[0m     boundary_shape\u001b[38;5;241m.\u001b[39m__geo_interface__,\n\u001b[1;32m     17\u001b[0m     resolution\n\u001b[1;32m     18\u001b[0m ))\n\u001b[1;32m     20\u001b[0m \u001b[38;5;66;03m# Convert hexagons to polygons\u001b[39;00m\n\u001b[1;32m     21\u001b[0m hex_polygons \u001b[38;5;241m=\u001b[39m []\n",
      "\u001b[0;31mAttributeError\u001b[0m: module 'h3' has no attribute 'polyfill'"
     ]
    }
   ],
   "source": [
    "geodf_hex = create_hexagonal_grid(boundary)\n",
    "geodf_hex.plot()"
   ]
  },
  {
   "cell_type": "markdown",
   "metadata": {},
   "source": [
    "## Isochrone API"
   ]
  },
  {
   "cell_type": "code",
   "execution_count": 49,
   "metadata": {},
   "outputs": [],
   "source": [
    "import requests\n",
    "\n",
    "response = requests.get(\n",
    "    'https://api.mapbox.com/isochrone/v1/mapbox/driving/-118.22258,33.99038?contours_minutes=5,10,15&contours_colors=6706ce,04e813,4286f4&polygons=true&access_token=pk.eyJ1IjoibWFyaWlha2FybmF1a2giLCJhIjoiY204YWFwMHp3MTkwNjJqc2Z0Nmh5ajhlNiJ9.UyMp2t8mfXEDI2iaf07qeQ',\n",
    ")"
   ]
  },
  {
   "cell_type": "code",
   "execution_count": 63,
   "metadata": {},
   "outputs": [
    {
     "ename": "SyntaxError",
     "evalue": "parameter without a default follows parameter with a default (1461494394.py, line 6)",
     "output_type": "error",
     "traceback": [
      "\u001b[0;36m  Cell \u001b[0;32mIn[63], line 6\u001b[0;36m\u001b[0m\n\u001b[0;31m    contours_minutes,\u001b[0m\n\u001b[0m    ^\u001b[0m\n\u001b[0;31mSyntaxError\u001b[0m\u001b[0;31m:\u001b[0m parameter without a default follows parameter with a default\n"
     ]
    }
   ],
   "source": [
    "import requests\n",
    "\n",
    "def get_isochrone(\n",
    "    coordinates, \n",
    "    profile=\"walking\", \n",
    "    contours_minutes,\n",
    "    contours_meters,\n",
    "    access_token=\"YOUR_ACCESS_TOKEN\"\n",
    "):\n",
    "    \"\"\"\n",
    "    Fetches isochrones from the Mapbox API.\n",
    "\n",
    "    Args:\n",
    "        longitude (float): Longitude of the starting point.\n",
    "        latitude (float): Latitude of the starting point.\n",
    "        profile (str): Travel mode (\"driving\", \"walking\", \"cycling\"). Default: \"walking\".\n",
    "        contours (list): List of contour times (if \"minutes\") or distances (if \"meters\").\n",
    "        contours_type (str): Type of contours - \"minutes\" (time-based) or \"meters\" (distance-based).\n",
    "        colors (list): List of hex color codes for each contour.\n",
    "        polygons (bool): Whether to return polygons (True) or lines (False).\n",
    "        access_token (str): Your Mapbox API access token.\n",
    "\n",
    "    Returns:\n",
    "        dict: The API response as a JSON object.\n",
    "    \"\"\"\n",
    "    base_url = \"https://api.mapbox.com/isochrone/v1\"\n",
    "\n",
    "    # Validate contours input\n",
    "    if not contours:\n",
    "        contours = [5, 10, 15] if contours_type == \"minutes\" else [500, 1000, 1500]  # Default values\n",
    "\n",
    "    # Convert list parameters to comma-separated strings\n",
    "    contours_str = \",\".join(map(str, contours))\n",
    "    colors_str = \",\".join(colors) if colors else \"\"\n",
    "\n",
    "    # Construct API request URL\n",
    "    url = f\"{base_url}/{profile}/{coordinates}?{contours_minutes|contours_meters}\"\n",
    "    \n",
    "\n",
    "\n",
    "    # Send request\n",
    "    response = requests.get(url, params=params)\n",
    "\n",
    "    # Handle response\n",
    "    if response.status_code == 200:\n",
    "        return response.json()\n",
    "    else:\n",
    "        print(f\"Error {response.status_code}: {response.text}\")\n",
    "        return None\n"
   ]
  },
  {
   "cell_type": "code",
   "execution_count": 61,
   "metadata": {},
   "outputs": [
    {
     "name": "stdout",
     "output_type": "stream",
     "text": [
      "Error 404: {\"message\":\"Not Found\"}\n",
      "None\n"
     ]
    }
   ],
   "source": [
    "# Example usage\n",
    "isochrone_data = get_isochrone(\n",
    "    longitude=-118.22258, \n",
    "    latitude=33.99038, \n",
    "    profile=\"walking\",\n",
    "    contours=[5, 10, 20],  # Contour times (minutes)\n",
    "    contours_type=\"minutes\",  # Change to \"meters\" for distance-based isochrones\n",
    "    colors=[\"ff0000\", \"00ff00\", \"0000ff\"],  # Custom colors (red, green, blue)\n",
    "    access_token=\"pk.eyJ1IjoibWFyaWlha2FybmF1a2giLCJhIjoiY204YWFwMHp3MTkwNjJqc2Z0Nmh5ajhlNiJ9.UyMp2t8mfXEDI2iaf07qeQ\"\n",
    ")\n",
    "\n",
    "# Print the response or handle it\n",
    "print(isochrone_data)"
   ]
  }
 ],
 "metadata": {
  "kernelspec": {
   "display_name": "Python 3 (ipykernel)",
   "language": "python",
   "name": "python3"
  },
  "language_info": {
   "codemirror_mode": {
    "name": "ipython",
    "version": 3
   },
   "file_extension": ".py",
   "mimetype": "text/x-python",
   "name": "python",
   "nbconvert_exporter": "python",
   "pygments_lexer": "ipython3",
   "version": "3.12.4"
  }
 },
 "nbformat": 4,
 "nbformat_minor": 4
}
